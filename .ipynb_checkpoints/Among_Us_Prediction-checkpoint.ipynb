{
 "cells": [
  {
   "cell_type": "markdown",
   "metadata": {},
   "source": [
    "# Data Analysis and Prediction on Among Us Dataset\n",
    "#### Fall 2021 DS-1001 Capstone Project\n",
    "#### Chloe Zheng cz1300, Jason Wang jw7383 , Xu Han xh852"
   ]
  },
  {
   "cell_type": "markdown",
   "metadata": {},
   "source": [
    "## Data Preprocessing"
   ]
  },
  {
   "cell_type": "code",
   "execution_count": 1,
   "metadata": {},
   "outputs": [],
   "source": [
    "import numpy as np\n",
    "import pandas as pd\n",
    "import matplotlib.pyplot as plt\n",
    "import seaborn as sns"
   ]
  },
  {
   "cell_type": "code",
   "execution_count": 2,
   "metadata": {},
   "outputs": [
    {
     "data": {
      "text/html": [
       "<div>\n",
       "<style scoped>\n",
       "    .dataframe tbody tr th:only-of-type {\n",
       "        vertical-align: middle;\n",
       "    }\n",
       "\n",
       "    .dataframe tbody tr th {\n",
       "        vertical-align: top;\n",
       "    }\n",
       "\n",
       "    .dataframe thead th {\n",
       "        text-align: right;\n",
       "    }\n",
       "</style>\n",
       "<table border=\"1\" class=\"dataframe\">\n",
       "  <thead>\n",
       "    <tr style=\"text-align: right;\">\n",
       "      <th></th>\n",
       "      <th>Game Completed Date</th>\n",
       "      <th>Team</th>\n",
       "      <th>Outcome</th>\n",
       "      <th>Task Completed</th>\n",
       "      <th>All Tasks Completed</th>\n",
       "      <th>Murdered</th>\n",
       "      <th>Imposter Kills</th>\n",
       "      <th>Game Length</th>\n",
       "      <th>Ejected</th>\n",
       "      <th>Sabotages Fixed</th>\n",
       "      <th>Time to complete all tasks</th>\n",
       "      <th>Rank Change</th>\n",
       "      <th>Region/Game Code</th>\n",
       "      <th>User</th>\n",
       "    </tr>\n",
       "  </thead>\n",
       "  <tbody>\n",
       "    <tr>\n",
       "      <th>0</th>\n",
       "      <td>12/13/2020 at 1:26:56 am EST</td>\n",
       "      <td>Crewmate</td>\n",
       "      <td>Win</td>\n",
       "      <td>3</td>\n",
       "      <td>No</td>\n",
       "      <td>Yes</td>\n",
       "      <td>-</td>\n",
       "      <td>07m 04s</td>\n",
       "      <td>No</td>\n",
       "      <td>2.0</td>\n",
       "      <td>-</td>\n",
       "      <td>++</td>\n",
       "      <td>NA / WYMSBF</td>\n",
       "      <td>0</td>\n",
       "    </tr>\n",
       "    <tr>\n",
       "      <th>1</th>\n",
       "      <td>12/13/2020 at 1:17:42 am EST</td>\n",
       "      <td>Crewmate</td>\n",
       "      <td>Loss</td>\n",
       "      <td>7</td>\n",
       "      <td>Yes</td>\n",
       "      <td>No</td>\n",
       "      <td>-</td>\n",
       "      <td>16m 21s</td>\n",
       "      <td>No</td>\n",
       "      <td>1.0</td>\n",
       "      <td>09m 48s</td>\n",
       "      <td>--</td>\n",
       "      <td>NA / WYMSBF</td>\n",
       "      <td>0</td>\n",
       "    </tr>\n",
       "    <tr>\n",
       "      <th>2</th>\n",
       "      <td>12/13/2020 at 12:57:47 am EST</td>\n",
       "      <td>Crewmate</td>\n",
       "      <td>Win</td>\n",
       "      <td>3</td>\n",
       "      <td>No</td>\n",
       "      <td>No</td>\n",
       "      <td>-</td>\n",
       "      <td>11m 33s</td>\n",
       "      <td>No</td>\n",
       "      <td>0.0</td>\n",
       "      <td>-</td>\n",
       "      <td>++</td>\n",
       "      <td>NA / WYMSBF</td>\n",
       "      <td>0</td>\n",
       "    </tr>\n",
       "    <tr>\n",
       "      <th>3</th>\n",
       "      <td>12/13/2020 at 12:41:55 am EST</td>\n",
       "      <td>Imposter</td>\n",
       "      <td>Win</td>\n",
       "      <td>-</td>\n",
       "      <td>-</td>\n",
       "      <td>-</td>\n",
       "      <td>2</td>\n",
       "      <td>08m 05s</td>\n",
       "      <td>No</td>\n",
       "      <td>NaN</td>\n",
       "      <td>-</td>\n",
       "      <td>+++</td>\n",
       "      <td>Europe / QIRTNF</td>\n",
       "      <td>0</td>\n",
       "    </tr>\n",
       "    <tr>\n",
       "      <th>4</th>\n",
       "      <td>12/13/2020 at 12:30:37 am EST</td>\n",
       "      <td>Crewmate</td>\n",
       "      <td>Loss</td>\n",
       "      <td>4</td>\n",
       "      <td>No</td>\n",
       "      <td>No</td>\n",
       "      <td>-</td>\n",
       "      <td>05m 10s</td>\n",
       "      <td>No</td>\n",
       "      <td>0.0</td>\n",
       "      <td>-</td>\n",
       "      <td>---</td>\n",
       "      <td>Europe / QIRTNF</td>\n",
       "      <td>0</td>\n",
       "    </tr>\n",
       "  </tbody>\n",
       "</table>\n",
       "</div>"
      ],
      "text/plain": [
       "             Game Completed Date      Team Outcome Task Completed  \\\n",
       "0   12/13/2020 at 1:26:56 am EST  Crewmate     Win              3   \n",
       "1   12/13/2020 at 1:17:42 am EST  Crewmate    Loss              7   \n",
       "2  12/13/2020 at 12:57:47 am EST  Crewmate     Win              3   \n",
       "3  12/13/2020 at 12:41:55 am EST  Imposter     Win              -   \n",
       "4  12/13/2020 at 12:30:37 am EST  Crewmate    Loss              4   \n",
       "\n",
       "  All Tasks Completed Murdered Imposter Kills Game Length Ejected  \\\n",
       "0                  No      Yes              -     07m 04s      No   \n",
       "1                 Yes       No              -     16m 21s      No   \n",
       "2                  No       No              -     11m 33s      No   \n",
       "3                   -        -              2     08m 05s      No   \n",
       "4                  No       No              -     05m 10s      No   \n",
       "\n",
       "   Sabotages Fixed Time to complete all tasks Rank Change Region/Game Code  \\\n",
       "0              2.0                          -          ++      NA / WYMSBF   \n",
       "1              1.0                    09m 48s          --      NA / WYMSBF   \n",
       "2              0.0                          -          ++      NA / WYMSBF   \n",
       "3              NaN                          -         +++  Europe / QIRTNF   \n",
       "4              0.0                          -         ---  Europe / QIRTNF   \n",
       "\n",
       "   User  \n",
       "0     0  \n",
       "1     0  \n",
       "2     0  \n",
       "3     0  \n",
       "4     0  "
      ]
     },
     "execution_count": 2,
     "metadata": {},
     "output_type": "execute_result"
    }
   ],
   "source": [
    "# Import Data and concatenate into one Dataframe\n",
    "# Add User Id\n",
    "\n",
    "files = []\n",
    "for i in range(29):\n",
    "    tempdf = pd.read_csv(f'data/User{i+1}.csv', delimiter = ',')\n",
    "    tempdf['User'] = i\n",
    "    files.append(tempdf)\n",
    "df = pd.concat(files, ignore_index = True)\n",
    "df.head()"
   ]
  },
  {
   "cell_type": "code",
   "execution_count": 3,
   "metadata": {},
   "outputs": [
    {
     "data": {
      "text/plain": [
       "Game Completed Date            object\n",
       "Team                           object\n",
       "Outcome                        object\n",
       "Task Completed                 object\n",
       "All Tasks Completed            object\n",
       "Murdered                       object\n",
       "Imposter Kills                 object\n",
       "Game Length                    object\n",
       "Ejected                        object\n",
       "Sabotages Fixed               float64\n",
       "Time to complete all tasks     object\n",
       "Rank Change                    object\n",
       "Region/Game Code               object\n",
       "User                            int64\n",
       "dtype: object"
      ]
     },
     "execution_count": 3,
     "metadata": {},
     "output_type": "execute_result"
    }
   ],
   "source": [
    "# List column features\n",
    "df.dtypes"
   ]
  },
  {
   "cell_type": "code",
   "execution_count": 4,
   "metadata": {},
   "outputs": [],
   "source": [
    "# Reformat Data\n",
    "df[['Task Completed', 'Imposter Kills']] = df[['Task Completed', 'Imposter Kills']].apply(pd.to_numeric, errors = 'coerce')\n",
    "df['Region'] = df['Region/Game Code'].str.extract(r'^(.*?)/')\n",
    "df['Region'].value_counts()\n",
    "df['Game Length'] = df['Game Length'].apply(pd.to_timedelta)\n",
    "df['Game Length'] = df['Game Length'] / np.timedelta64(1, 's')\n",
    "df['Time to complete all tasks'] = df['Time to complete all tasks'].apply(pd.to_timedelta, errors = 'coerce')\n",
    "df['Time to complete all tasks'] = df['Time to complete all tasks'] / np.timedelta64(1, 's')"
   ]
  },
  {
   "cell_type": "code",
   "execution_count": 5,
   "metadata": {},
   "outputs": [
    {
     "data": {
      "text/html": [
       "<div>\n",
       "<style scoped>\n",
       "    .dataframe tbody tr th:only-of-type {\n",
       "        vertical-align: middle;\n",
       "    }\n",
       "\n",
       "    .dataframe tbody tr th {\n",
       "        vertical-align: top;\n",
       "    }\n",
       "\n",
       "    .dataframe thead th {\n",
       "        text-align: right;\n",
       "    }\n",
       "</style>\n",
       "<table border=\"1\" class=\"dataframe\">\n",
       "  <thead>\n",
       "    <tr style=\"text-align: right;\">\n",
       "      <th></th>\n",
       "      <th>Team</th>\n",
       "      <th>Outcome</th>\n",
       "      <th>Task Completed</th>\n",
       "      <th>All Tasks Completed</th>\n",
       "      <th>Murdered</th>\n",
       "      <th>Game Length</th>\n",
       "      <th>Ejected</th>\n",
       "      <th>Sabotages Fixed</th>\n",
       "      <th>Region</th>\n",
       "      <th>User</th>\n",
       "    </tr>\n",
       "  </thead>\n",
       "  <tbody>\n",
       "    <tr>\n",
       "      <th>0</th>\n",
       "      <td>Crewmate</td>\n",
       "      <td>Win</td>\n",
       "      <td>3.0</td>\n",
       "      <td>No</td>\n",
       "      <td>Yes</td>\n",
       "      <td>424.0</td>\n",
       "      <td>No</td>\n",
       "      <td>2.0</td>\n",
       "      <td>NA</td>\n",
       "      <td>0</td>\n",
       "    </tr>\n",
       "    <tr>\n",
       "      <th>1</th>\n",
       "      <td>Crewmate</td>\n",
       "      <td>Loss</td>\n",
       "      <td>7.0</td>\n",
       "      <td>Yes</td>\n",
       "      <td>No</td>\n",
       "      <td>981.0</td>\n",
       "      <td>No</td>\n",
       "      <td>1.0</td>\n",
       "      <td>NA</td>\n",
       "      <td>0</td>\n",
       "    </tr>\n",
       "    <tr>\n",
       "      <th>2</th>\n",
       "      <td>Crewmate</td>\n",
       "      <td>Win</td>\n",
       "      <td>3.0</td>\n",
       "      <td>No</td>\n",
       "      <td>No</td>\n",
       "      <td>693.0</td>\n",
       "      <td>No</td>\n",
       "      <td>0.0</td>\n",
       "      <td>NA</td>\n",
       "      <td>0</td>\n",
       "    </tr>\n",
       "    <tr>\n",
       "      <th>4</th>\n",
       "      <td>Crewmate</td>\n",
       "      <td>Loss</td>\n",
       "      <td>4.0</td>\n",
       "      <td>No</td>\n",
       "      <td>No</td>\n",
       "      <td>310.0</td>\n",
       "      <td>No</td>\n",
       "      <td>0.0</td>\n",
       "      <td>Europe</td>\n",
       "      <td>0</td>\n",
       "    </tr>\n",
       "    <tr>\n",
       "      <th>5</th>\n",
       "      <td>Crewmate</td>\n",
       "      <td>Loss</td>\n",
       "      <td>7.0</td>\n",
       "      <td>Yes</td>\n",
       "      <td>Yes</td>\n",
       "      <td>982.0</td>\n",
       "      <td>No</td>\n",
       "      <td>0.0</td>\n",
       "      <td>Europe</td>\n",
       "      <td>0</td>\n",
       "    </tr>\n",
       "  </tbody>\n",
       "</table>\n",
       "</div>"
      ],
      "text/plain": [
       "       Team Outcome  Task Completed All Tasks Completed Murdered  Game Length  \\\n",
       "0  Crewmate     Win             3.0                  No      Yes        424.0   \n",
       "1  Crewmate    Loss             7.0                 Yes       No        981.0   \n",
       "2  Crewmate     Win             3.0                  No       No        693.0   \n",
       "4  Crewmate    Loss             4.0                  No       No        310.0   \n",
       "5  Crewmate    Loss             7.0                 Yes      Yes        982.0   \n",
       "\n",
       "  Ejected  Sabotages Fixed   Region  User  \n",
       "0      No              2.0      NA      0  \n",
       "1      No              1.0      NA      0  \n",
       "2      No              0.0      NA      0  \n",
       "4      No              0.0  Europe      0  \n",
       "5      No              0.0  Europe      0  "
      ]
     },
     "execution_count": 5,
     "metadata": {},
     "output_type": "execute_result"
    }
   ],
   "source": [
    "# Create Dataframe for ONLY Crewmate data\n",
    "crewmate = df[['Team',\n",
    "               'Outcome',\n",
    "               'Task Completed',\n",
    "               'All Tasks Completed',\n",
    "               'Murdered',\n",
    "               'Game Length',\n",
    "               'Ejected',\n",
    "              'Sabotages Fixed',\n",
    "              'Region',\n",
    "              'User']][df['Team'] == 'Crewmate']\n",
    "crewmate.head()"
   ]
  },
  {
   "cell_type": "code",
   "execution_count": 6,
   "metadata": {},
   "outputs": [
    {
     "data": {
      "text/html": [
       "<div>\n",
       "<style scoped>\n",
       "    .dataframe tbody tr th:only-of-type {\n",
       "        vertical-align: middle;\n",
       "    }\n",
       "\n",
       "    .dataframe tbody tr th {\n",
       "        vertical-align: top;\n",
       "    }\n",
       "\n",
       "    .dataframe thead th {\n",
       "        text-align: right;\n",
       "    }\n",
       "</style>\n",
       "<table border=\"1\" class=\"dataframe\">\n",
       "  <thead>\n",
       "    <tr style=\"text-align: right;\">\n",
       "      <th></th>\n",
       "      <th>Team</th>\n",
       "      <th>Outcome</th>\n",
       "      <th>Task Completed</th>\n",
       "      <th>All Tasks Completed</th>\n",
       "      <th>Murdered</th>\n",
       "      <th>Game Length</th>\n",
       "      <th>Ejected</th>\n",
       "      <th>Sabotages Fixed</th>\n",
       "      <th>Region</th>\n",
       "      <th>User</th>\n",
       "    </tr>\n",
       "  </thead>\n",
       "  <tbody>\n",
       "    <tr>\n",
       "      <th>0</th>\n",
       "      <td>Crewmate</td>\n",
       "      <td>1</td>\n",
       "      <td>3.0</td>\n",
       "      <td>0</td>\n",
       "      <td>1</td>\n",
       "      <td>424.0</td>\n",
       "      <td>0</td>\n",
       "      <td>2.0</td>\n",
       "      <td>0</td>\n",
       "      <td>0</td>\n",
       "    </tr>\n",
       "    <tr>\n",
       "      <th>1</th>\n",
       "      <td>Crewmate</td>\n",
       "      <td>0</td>\n",
       "      <td>7.0</td>\n",
       "      <td>1</td>\n",
       "      <td>0</td>\n",
       "      <td>981.0</td>\n",
       "      <td>0</td>\n",
       "      <td>1.0</td>\n",
       "      <td>0</td>\n",
       "      <td>0</td>\n",
       "    </tr>\n",
       "    <tr>\n",
       "      <th>2</th>\n",
       "      <td>Crewmate</td>\n",
       "      <td>1</td>\n",
       "      <td>3.0</td>\n",
       "      <td>0</td>\n",
       "      <td>0</td>\n",
       "      <td>693.0</td>\n",
       "      <td>0</td>\n",
       "      <td>0.0</td>\n",
       "      <td>0</td>\n",
       "      <td>0</td>\n",
       "    </tr>\n",
       "    <tr>\n",
       "      <th>4</th>\n",
       "      <td>Crewmate</td>\n",
       "      <td>0</td>\n",
       "      <td>4.0</td>\n",
       "      <td>0</td>\n",
       "      <td>0</td>\n",
       "      <td>310.0</td>\n",
       "      <td>0</td>\n",
       "      <td>0.0</td>\n",
       "      <td>1</td>\n",
       "      <td>0</td>\n",
       "    </tr>\n",
       "    <tr>\n",
       "      <th>5</th>\n",
       "      <td>Crewmate</td>\n",
       "      <td>0</td>\n",
       "      <td>7.0</td>\n",
       "      <td>1</td>\n",
       "      <td>1</td>\n",
       "      <td>982.0</td>\n",
       "      <td>0</td>\n",
       "      <td>0.0</td>\n",
       "      <td>1</td>\n",
       "      <td>0</td>\n",
       "    </tr>\n",
       "  </tbody>\n",
       "</table>\n",
       "</div>"
      ],
      "text/plain": [
       "       Team  Outcome  Task Completed  All Tasks Completed  Murdered  \\\n",
       "0  Crewmate        1             3.0                    0         1   \n",
       "1  Crewmate        0             7.0                    1         0   \n",
       "2  Crewmate        1             3.0                    0         0   \n",
       "4  Crewmate        0             4.0                    0         0   \n",
       "5  Crewmate        0             7.0                    1         1   \n",
       "\n",
       "   Game Length  Ejected  Sabotages Fixed  Region  User  \n",
       "0        424.0        0              2.0       0     0  \n",
       "1        981.0        0              1.0       0     0  \n",
       "2        693.0        0              0.0       0     0  \n",
       "4        310.0        0              0.0       1     0  \n",
       "5        982.0        0              0.0       1     0  "
      ]
     },
     "execution_count": 6,
     "metadata": {},
     "output_type": "execute_result"
    }
   ],
   "source": [
    "# Reformat Data\n",
    "crewmate['Outcome'] = crewmate['Outcome'].replace(['Loss', 'Win'],[0, 1])\n",
    "crewmate['All Tasks Completed'] = crewmate['All Tasks Completed'].replace(['No', 'Yes'],[0, 1])\n",
    "crewmate['Murdered'] = crewmate['Murdered'].replace(['No', 'Yes'],[0, 1])\n",
    "crewmate['Ejected'] = crewmate['Ejected'].replace(['No', 'Yes'],[0, 1])\n",
    "crewmate['Region'] = crewmate['Region'].replace(['NA ', 'Europe '],[0, 1])\n",
    "crewmate.head()"
   ]
  },
  {
   "cell_type": "code",
   "execution_count": 7,
   "metadata": {},
   "outputs": [
    {
     "data": {
      "image/png": "[encoded data removed]",
      "text/plain": [
       "<Figure size 1440x1080 with 2 Axes>"
      ]
     },
     "metadata": {
      "needs_background": "light"
     },
     "output_type": "display_data"
    }
   ],
   "source": [
    "# Analyze Correlation Matrix for correlated features\n",
    "%matplotlib inline\n",
    "corrlation_matrix = crewmate.corr()\n",
    "fig, ax = plt.subplots(figsize = (20, 15))\n",
    "ax = sns.heatmap(corrlation_matrix,\n",
    "                annot = True,\n",
    "                linewidths = 0.5,\n",
    "                fmt = \".2f\")"
   ]
  },
  {
   "cell_type": "code",
   "execution_count": 8,
   "metadata": {},
   "outputs": [
    {
     "data": {
      "text/html": [
       "<div>\n",
       "<style scoped>\n",
       "    .dataframe tbody tr th:only-of-type {\n",
       "        vertical-align: middle;\n",
       "    }\n",
       "\n",
       "    .dataframe tbody tr th {\n",
       "        vertical-align: top;\n",
       "    }\n",
       "\n",
       "    .dataframe thead th {\n",
       "        text-align: right;\n",
       "    }\n",
       "</style>\n",
       "<table border=\"1\" class=\"dataframe\">\n",
       "  <thead>\n",
       "    <tr style=\"text-align: right;\">\n",
       "      <th></th>\n",
       "      <th>Team</th>\n",
       "      <th>Outcome</th>\n",
       "      <th>Task Completed</th>\n",
       "      <th>Murdered</th>\n",
       "      <th>Game Length</th>\n",
       "      <th>Ejected</th>\n",
       "      <th>Sabotages Fixed</th>\n",
       "      <th>Region</th>\n",
       "      <th>User</th>\n",
       "    </tr>\n",
       "  </thead>\n",
       "  <tbody>\n",
       "    <tr>\n",
       "      <th>0</th>\n",
       "      <td>Crewmate</td>\n",
       "      <td>1</td>\n",
       "      <td>3.0</td>\n",
       "      <td>1</td>\n",
       "      <td>424.0</td>\n",
       "      <td>0</td>\n",
       "      <td>2.0</td>\n",
       "      <td>0</td>\n",
       "      <td>0</td>\n",
       "    </tr>\n",
       "    <tr>\n",
       "      <th>1</th>\n",
       "      <td>Crewmate</td>\n",
       "      <td>0</td>\n",
       "      <td>7.0</td>\n",
       "      <td>0</td>\n",
       "      <td>981.0</td>\n",
       "      <td>0</td>\n",
       "      <td>1.0</td>\n",
       "      <td>0</td>\n",
       "      <td>0</td>\n",
       "    </tr>\n",
       "    <tr>\n",
       "      <th>2</th>\n",
       "      <td>Crewmate</td>\n",
       "      <td>1</td>\n",
       "      <td>3.0</td>\n",
       "      <td>0</td>\n",
       "      <td>693.0</td>\n",
       "      <td>0</td>\n",
       "      <td>0.0</td>\n",
       "      <td>0</td>\n",
       "      <td>0</td>\n",
       "    </tr>\n",
       "    <tr>\n",
       "      <th>4</th>\n",
       "      <td>Crewmate</td>\n",
       "      <td>0</td>\n",
       "      <td>4.0</td>\n",
       "      <td>0</td>\n",
       "      <td>310.0</td>\n",
       "      <td>0</td>\n",
       "      <td>0.0</td>\n",
       "      <td>1</td>\n",
       "      <td>0</td>\n",
       "    </tr>\n",
       "    <tr>\n",
       "      <th>5</th>\n",
       "      <td>Crewmate</td>\n",
       "      <td>0</td>\n",
       "      <td>7.0</td>\n",
       "      <td>1</td>\n",
       "      <td>982.0</td>\n",
       "      <td>0</td>\n",
       "      <td>0.0</td>\n",
       "      <td>1</td>\n",
       "      <td>0</td>\n",
       "    </tr>\n",
       "  </tbody>\n",
       "</table>\n",
       "</div>"
      ],
      "text/plain": [
       "       Team  Outcome  Task Completed  Murdered  Game Length  Ejected  \\\n",
       "0  Crewmate        1             3.0         1        424.0        0   \n",
       "1  Crewmate        0             7.0         0        981.0        0   \n",
       "2  Crewmate        1             3.0         0        693.0        0   \n",
       "4  Crewmate        0             4.0         0        310.0        0   \n",
       "5  Crewmate        0             7.0         1        982.0        0   \n",
       "\n",
       "   Sabotages Fixed  Region  User  \n",
       "0              2.0       0     0  \n",
       "1              1.0       0     0  \n",
       "2              0.0       0     0  \n",
       "4              0.0       1     0  \n",
       "5              0.0       1     0  "
      ]
     },
     "execution_count": 8,
     "metadata": {},
     "output_type": "execute_result"
    }
   ],
   "source": [
    "# Based on Correlation Matrix, 'All Tasks Completed' is highly correlated with 'Tasks Completed'\n",
    "crewmate = crewmate.drop(['All Tasks Completed'], axis =1)\n",
    "crewmate.head()"
   ]
  },
  {
   "cell_type": "markdown",
   "metadata": {},
   "source": [
    "## Hypothesis Testing\n",
    "\n",
    "#### Null Hypothesis: Crewmates who finish more tasks do not necessarily win more often."
   ]
  },
  {
   "cell_type": "code",
   "execution_count": 9,
   "metadata": {},
   "outputs": [],
   "source": [
    "from scipy import stats\n",
    "from scipy.stats import t"
   ]
  },
  {
   "cell_type": "code",
   "execution_count": 10,
   "metadata": {},
   "outputs": [
    {
     "name": "stdout",
     "output_type": "stream",
     "text": [
      "two-sided p-value: 0.10475998310983638\n",
      "less than p-value: 0.05237999155491819\n",
      "t-statistic: -1.6786449499637606\n"
     ]
    }
   ],
   "source": [
    "# t-test\n",
    "avg_task_completed = crewmate.groupby(by = 'User')['Task Completed'].mean()\n",
    "avg_wins = crewmate.groupby(by = 'User')['Outcome'].mean()\n",
    "\n",
    "thresh = avg_task_completed.mean()\n",
    "less_tasks = avg_wins[avg_task_completed < thresh]\n",
    "greater_tasks = avg_wins[avg_task_completed >= thresh]\n",
    "avg_task_completed = crewmate.groupby(by = 'User')['Task Completed'].mean()\n",
    "avg_wins = crewmate.groupby(by = 'User')['Outcome'].mean()\n",
    "thresh = avg_task_completed.mean()\n",
    "less_tasks = avg_wins[avg_task_completed < thresh]\n",
    "greater_tasks = avg_wins[avg_task_completed >= thresh]\n",
    "\n",
    "t1, p1 = stats.ttest_ind(less_tasks, greater_tasks)\n",
    "print(\"two-sided p-value:\", p1)\n",
    "print(\"less than p-value:\", p1/2)\n",
    "print(\"t-statistic:\", t1)"
   ]
  },
  {
   "cell_type": "code",
   "execution_count": 11,
   "metadata": {},
   "outputs": [
    {
     "data": {
      "image/png": "[encoded data removed]",
      "text/plain": [
       "<Figure size 432x288 with 1 Axes>"
      ]
     },
     "metadata": {
      "needs_background": "light"
     },
     "output_type": "display_data"
    }
   ],
   "source": [
    "# Graph t-distribution with our results\n",
    "degree = 27\n",
    "fig = plt.figure()\n",
    "x = np.linspace(t.ppf(0.00001, degree),\n",
    "                t.ppf(0.99999, degree), 100)\n",
    "plt.plot(x, t.pdf(x, degree),'r-', alpha=0.6, label='t pdf')\n",
    "plt.axvline(t1, color = 'black', ls = '--')\n",
    "plt.xlabel('t')\n",
    "plt.ylabel('pdf')\n",
    "plt.title(\"pdf of Student's t-test\")\n",
    "plt.xlim(-5,5)\n",
    "plt.ylim(0,.4)\n",
    "\n",
    "def f(x):\n",
    "    return t.pdf(x, 27)\n",
    "\n",
    "section = np.linspace(-5,t1,100)\n",
    "plt.fill_between(section,f(section))\n",
    "plt.annotate('t=-1.678', (-3.2,.3))\n",
    "plt.annotate('p=0.052', (-3.6,.05))\n",
    "\n",
    "plt.show()"
   ]
  },
  {
   "cell_type": "markdown",
   "metadata": {},
   "source": [
    "## Logistic Regression\n",
    "\n",
    "#### Predictors: Crewmate stats - (1) task completed (2) all tasks completed (3) murdered (4) game length (5) ejected (6) sabotages fixed \n",
    "#### Outcome: Win or loss"
   ]
  },
  {
   "cell_type": "code",
   "execution_count": 12,
   "metadata": {},
   "outputs": [],
   "source": [
    "from sklearn.linear_model import LogisticRegression\n",
    "from sklearn.metrics import roc_auc_score"
   ]
  },
  {
   "cell_type": "code",
   "execution_count": 13,
   "metadata": {},
   "outputs": [],
   "source": [
    "# Train/Test split functions\n",
    "# Goal: split data such that each unique user's data is ONLY in either the train or test.\n",
    "#     Since the amount of games played per user is NOT consistent, use the subset sum dynamic programming method to\n",
    "#     find a subset that satifies the target ratio\n",
    "#     REFERENCE: https://levelup.gitconnected.com/dynamic-programming-subset-sum-c386126621cd\n",
    "\n",
    "def user_train_valid_split(users_i,valid_ratio,possible=False):\n",
    "    n = sum(users_i)\n",
    "    target = int(np.floor(valid_ratio*n))\n",
    "    while not possible:\n",
    "        possible, validation_indices = user_split(users_i,target)\n",
    "        target -= 1\n",
    "    training_indices = [i for i in range(len(users_i)) if i not in validation_indices]\n",
    "    return training_indices, validation_indices\n",
    "\n",
    "def user_split(users_i,target):  \n",
    "    n = len(users_i)\n",
    "    solution = [[False for j in range(int(target+1))] for i in range(n+1)]\n",
    "    # base cases\n",
    "    for i in range(n):\n",
    "        solution[i][0] = True\n",
    "    # other cases\n",
    "    for i in range(1,n+1):\n",
    "        for j in range(1,target+1):\n",
    "            solution[i][j] = solution[i-1][j]\n",
    "            if(solution[i][j] == False and j >= users_i[i-1]):\n",
    "                solution[i][j] = solution[i][j] or solution[i-1][j-users_i[i-1]]\n",
    "    # check if the subset sum is possible\n",
    "    possible = solution[len(users_i)][target]\n",
    "    subset = []\n",
    "    if not possible: return possible, subset\n",
    "    # return the subset solution if one exists\n",
    "    y = len(users_i)\n",
    "    x = target\n",
    "    while x != 0:\n",
    "        if solution[y-1][x] == False:\n",
    "            subset.append(y-1)\n",
    "            x -= users_i[y-1]\n",
    "        else: \n",
    "            y -= 1\n",
    "    return possible, subset"
   ]
  },
  {
   "cell_type": "code",
   "execution_count": 14,
   "metadata": {},
   "outputs": [
    {
     "name": "stdout",
     "output_type": "stream",
     "text": [
      "expected ratio: 0.25, actual: 0.2498580352072686\n"
     ]
    }
   ],
   "source": [
    "# Split data\n",
    "crewmates_i = list(crewmate[\"User\"].value_counts(sort = False))\n",
    "test_ratio = .25\n",
    "training_indices, test_indices = user_train_valid_split(crewmates_i,test_ratio)\n",
    "\n",
    "train_data = crewmate.loc[crewmate['User'].isin(training_indices)]\n",
    "test_data = crewmate.loc[crewmate['User'].isin(test_indices)]\n",
    "train_data.reset_index(drop=True, inplace=True)\n",
    "test_data.reset_index(drop=True, inplace=True)\n",
    "\n",
    "# Check\n",
    "train_sum = sum([crewmates_i[i] for i in training_indices])\n",
    "test_sum = sum([crewmates_i[i] for i in test_indices])\n",
    "print(\"expected ratio: {}, actual: {}\".format(test_ratio, test_sum/(train_sum+test_sum)))"
   ]
  },
  {
   "cell_type": "code",
   "execution_count": 15,
   "metadata": {
    "scrolled": false
   },
   "outputs": [
    {
     "name": "stdout",
     "output_type": "stream",
     "text": [
      "Training data...\n",
      "Testing model...\n",
      "AUC score: 0.6136017272034544\n"
     ]
    },
    {
     "data": {
      "image/png": "[encoded data removed]",
      "text/plain": [
       "<Figure size 720x360 with 1 Axes>"
      ]
     },
     "metadata": {
      "needs_background": "light"
     },
     "output_type": "display_data"
    }
   ],
   "source": [
    "# Train data\n",
    "print(\"Training data...\")\n",
    "X_train = train_data.drop([\"Outcome\", \"Team\", \"User\"], axis=1)\n",
    "y_train = train_data[\"Outcome\"]\n",
    "clf = LogisticRegression(random_state=0).fit(X_train, y_train)\n",
    "coefs = clf.coef_[0]\n",
    "\n",
    "# Test data\n",
    "print(\"Testing model...\")\n",
    "X_test = test_data.drop([\"Outcome\", \"Team\", \"User\"], axis=1)\n",
    "y_true = test_data[\"Outcome\"]\n",
    "y_predict = clf.predict(X_test)\n",
    "\n",
    "auc = roc_auc_score(y_true, y_predict)\n",
    "print(\"AUC score:\", auc)\n",
    "\n",
    "# Analyze coefficients\n",
    "plt.figure(figsize=(10,5))\n",
    "plt.bar(X_train.columns, coefs)\n",
    "plt.xlabel(\"Features\")\n",
    "plt.ylabel(\"Coeffcient\")\n",
    "plt.title(\"Predictor Coefficients\")\n",
    "plt.show()"
   ]
  },
  {
   "cell_type": "markdown",
   "metadata": {},
   "source": [
    "## Multiple Linear Regression\n",
    "\n",
    "#### Predictors: Grouped by user, crewmate stats - (1) avg winrate (2) avg number of task completed (3) number of times being crewmate (4) avg murdered rate (5) avg ejected rate (6) avg sabotages fixed (7) avg game length\n",
    "#### Outcome: Grouped by user, imposter win rate"
   ]
  },
  {
   "cell_type": "code",
   "execution_count": 16,
   "metadata": {},
   "outputs": [],
   "source": [
    "from sklearn.model_selection import train_test_split\n",
    "from sklearn.metrics import mean_squared_error\n",
    "from sklearn.linear_model import Lasso, Ridge"
   ]
  },
  {
   "cell_type": "code",
   "execution_count": 17,
   "metadata": {},
   "outputs": [
    {
     "data": {
      "text/html": [
       "<div>\n",
       "<style scoped>\n",
       "    .dataframe tbody tr th:only-of-type {\n",
       "        vertical-align: middle;\n",
       "    }\n",
       "\n",
       "    .dataframe tbody tr th {\n",
       "        vertical-align: top;\n",
       "    }\n",
       "\n",
       "    .dataframe thead th {\n",
       "        text-align: right;\n",
       "    }\n",
       "</style>\n",
       "<table border=\"1\" class=\"dataframe\">\n",
       "  <thead>\n",
       "    <tr style=\"text-align: right;\">\n",
       "      <th></th>\n",
       "      <th>avg_winrate</th>\n",
       "      <th>avg_task_comp</th>\n",
       "      <th>num_time_crew</th>\n",
       "      <th>avg_murdered_rate</th>\n",
       "      <th>avg_ejected_rate</th>\n",
       "      <th>avg_sabotaged_fixed</th>\n",
       "      <th>avg_game_length</th>\n",
       "    </tr>\n",
       "    <tr>\n",
       "      <th>User</th>\n",
       "      <th></th>\n",
       "      <th></th>\n",
       "      <th></th>\n",
       "      <th></th>\n",
       "      <th></th>\n",
       "      <th></th>\n",
       "      <th></th>\n",
       "    </tr>\n",
       "  </thead>\n",
       "  <tbody>\n",
       "    <tr>\n",
       "      <th>0</th>\n",
       "      <td>0.571429</td>\n",
       "      <td>6.142857</td>\n",
       "      <td>77</td>\n",
       "      <td>0.597403</td>\n",
       "      <td>0.012987</td>\n",
       "      <td>0.389610</td>\n",
       "      <td>741.363636</td>\n",
       "    </tr>\n",
       "    <tr>\n",
       "      <th>1</th>\n",
       "      <td>0.480519</td>\n",
       "      <td>5.818182</td>\n",
       "      <td>77</td>\n",
       "      <td>0.467532</td>\n",
       "      <td>0.051948</td>\n",
       "      <td>0.675325</td>\n",
       "      <td>636.623377</td>\n",
       "    </tr>\n",
       "    <tr>\n",
       "      <th>2</th>\n",
       "      <td>0.485294</td>\n",
       "      <td>5.352941</td>\n",
       "      <td>68</td>\n",
       "      <td>0.426471</td>\n",
       "      <td>0.029412</td>\n",
       "      <td>0.661765</td>\n",
       "      <td>683.514706</td>\n",
       "    </tr>\n",
       "    <tr>\n",
       "      <th>3</th>\n",
       "      <td>0.493827</td>\n",
       "      <td>4.135802</td>\n",
       "      <td>81</td>\n",
       "      <td>0.419753</td>\n",
       "      <td>0.061728</td>\n",
       "      <td>0.444444</td>\n",
       "      <td>457.790123</td>\n",
       "    </tr>\n",
       "    <tr>\n",
       "      <th>4</th>\n",
       "      <td>0.483871</td>\n",
       "      <td>4.806452</td>\n",
       "      <td>31</td>\n",
       "      <td>0.580645</td>\n",
       "      <td>0.000000</td>\n",
       "      <td>0.451613</td>\n",
       "      <td>708.935484</td>\n",
       "    </tr>\n",
       "  </tbody>\n",
       "</table>\n",
       "</div>"
      ],
      "text/plain": [
       "      avg_winrate  avg_task_comp  num_time_crew  avg_murdered_rate  \\\n",
       "User                                                                 \n",
       "0        0.571429       6.142857             77           0.597403   \n",
       "1        0.480519       5.818182             77           0.467532   \n",
       "2        0.485294       5.352941             68           0.426471   \n",
       "3        0.493827       4.135802             81           0.419753   \n",
       "4        0.483871       4.806452             31           0.580645   \n",
       "\n",
       "      avg_ejected_rate  avg_sabotaged_fixed  avg_game_length  \n",
       "User                                                          \n",
       "0             0.012987             0.389610       741.363636  \n",
       "1             0.051948             0.675325       636.623377  \n",
       "2             0.029412             0.661765       683.514706  \n",
       "3             0.061728             0.444444       457.790123  \n",
       "4             0.000000             0.451613       708.935484  "
      ]
     },
     "execution_count": 17,
     "metadata": {},
     "output_type": "execute_result"
    }
   ],
   "source": [
    "# Prepare X data\n",
    "users = pd.DataFrame()\n",
    "\n",
    "users['avg_winrate'] = crewmate.groupby('User')['Outcome'].mean()\n",
    "users['avg_task_comp'] = crewmate.groupby('User')['Task Completed'].mean()\n",
    "users['num_time_crew'] = crewmate['User'].value_counts(sort=False)\n",
    "users['avg_murdered_rate'] = crewmate.groupby('User')['Murdered'].mean()\n",
    "users['avg_ejected_rate'] = crewmate.groupby('User')['Ejected'].mean()\n",
    "users['avg_sabotaged_fixed'] = crewmate.groupby('User')['Sabotages Fixed'].mean()\n",
    "users['avg_game_length'] = crewmate.groupby('User')['Game Length'].mean()\n",
    "\n",
    "users.head()"
   ]
  },
  {
   "cell_type": "code",
   "execution_count": 18,
   "metadata": {
    "scrolled": false
   },
   "outputs": [
    {
     "name": "stderr",
     "output_type": "stream",
     "text": [
      "<ipython-input-18-247e2f5ce23d>:3: SettingWithCopyWarning: \n",
      "A value is trying to be set on a copy of a slice from a DataFrame.\n",
      "Try using .loc[row_indexer,col_indexer] = value instead\n",
      "\n",
      "See the caveats in the documentation: https://pandas.pydata.org/pandas-docs/stable/user_guide/indexing.html#returning-a-view-versus-a-copy\n",
      "  imp['Outcome'] = imp['Outcome'].replace(['Loss', 'Win'], [0,1])\n"
     ]
    }
   ],
   "source": [
    "# Prepare y data\n",
    "imp = df[df['Team']=='Imposter']\n",
    "imp['Outcome'] = imp['Outcome'].replace(['Loss', 'Win'], [0,1])\n",
    "imp.head();\n",
    "target = imp.groupby('User')['Outcome'].mean()"
   ]
  },
  {
   "cell_type": "code",
   "execution_count": 19,
   "metadata": {},
   "outputs": [],
   "source": [
    "# Split data using built in function\n",
    "X_train, X_test, y_train, y_test = train_test_split(users, \n",
    "                                                    target, \n",
    "                                                    test_size=0.2,\n",
    "                                                   random_state=42)"
   ]
  },
  {
   "cell_type": "code",
   "execution_count": 20,
   "metadata": {},
   "outputs": [
    {
     "name": "stdout",
     "output_type": "stream",
     "text": [
      "alphas: [0.001, 0.01, 0.1, 1]\n",
      "train error: [0.013351083045980112, 0.01816712966506992, 0.020055568714751525, 0.021115043697726325]\n",
      "test error: [0.034129538966013014, 0.024198806614650847, 0.0237210801351239, 0.02512092489759861]\n"
     ]
    },
    {
     "data": {
      "image/png": "[encoded data removed]",
      "text/plain": [
       "<Figure size 432x288 with 1 Axes>"
      ]
     },
     "metadata": {
      "needs_background": "light"
     },
     "output_type": "display_data"
    }
   ],
   "source": [
    "# Lasso\n",
    "lbds = [1e-3, 1e-2, 1e-1, 1]\n",
    "train_error_lasso, test_error_lasso = [], []\n",
    "\n",
    "for lbd in lbds:\n",
    "    lasso = Lasso(alpha=lbd)\n",
    "    lasso.fit(X_train, y_train)\n",
    "    \n",
    "    pers_train_predict = lasso.predict(X_train)\n",
    "    pers_test_predict = lasso.predict(X_test)\n",
    "    train_error_lasso.append(mean_squared_error(y_train, pers_train_predict))\n",
    "    test_error_lasso.append(mean_squared_error(y_test,pers_test_predict ))\n",
    "\n",
    "print(\"alphas: {}\\ntrain error: {}\\ntest error: {}\".format(lbds,train_error_lasso,test_error_lasso))\n",
    "\n",
    "plt.plot(lbds, train_error_lasso, '-+', label='train')\n",
    "plt.plot(lbds, test_error_lasso,'-+', label='test')\n",
    "plt.xscale('log')\n",
    "plt.xlabel('alpha')\n",
    "plt.ylabel('mean squared error')\n",
    "plt.title('Lasso Regression: alpha vs. mse')\n",
    "plt.legend()\n",
    "plt.show()"
   ]
  },
  {
   "cell_type": "code",
   "execution_count": 21,
   "metadata": {},
   "outputs": [
    {
     "name": "stdout",
     "output_type": "stream",
     "text": [
      "alphas: [0.0, 1e-08, 1e-05, 0.1, 1, 10, 100, 1000, 10000]\n",
      "train error: [0.012626699788787414, 0.012626699788787703, 0.012626700083685063, 0.014062169510723978, 0.017047862926834297, 0.018277474833601554, 0.019586431290974926, 0.019990264530667243, 0.02025152153290846]\n",
      "test error: [0.041057807739255575, 0.041057803198491276, 0.04105327125281635, 0.03132902718349164, 0.025455190357740926, 0.024070668624244174, 0.023656652997387576, 0.023640890671047746, 0.02383709743361237]\n"
     ]
    },
    {
     "data": {
      "image/png": "[encoded data removed]",
      "text/plain": [
       "<Figure size 432x288 with 1 Axes>"
      ]
     },
     "metadata": {
      "needs_background": "light"
     },
     "output_type": "display_data"
    }
   ],
   "source": [
    "# Ridge\n",
    "alphas = [0.0, 1e-8, 1e-5, 0.1, 1, 10, 100, 1000,10000]\n",
    "train_error, test_error = [], []\n",
    "\n",
    "for alpha in alphas:\n",
    "    clf = Ridge(alpha=alpha)\n",
    "    clf.fit(X_train, y_train)\n",
    "    pers_train_predict = clf.predict(X_train)\n",
    "    pers_test_predict = clf.predict(X_test)\n",
    "    train_error.append(mean_squared_error(y_train, pers_train_predict))\n",
    "    test_error.append(mean_squared_error(y_test,pers_test_predict ))\n",
    "    \n",
    "print(\"alphas: {}\\ntrain error: {}\\ntest error: {}\".format(alphas,train_error,test_error))\n",
    "\n",
    "plt.plot(alphas, train_error, '-+', label='train')\n",
    "plt.plot(alphas, test_error,'-+', label='test')\n",
    "plt.xscale('log')\n",
    "plt.xlabel('alpha')\n",
    "plt.ylabel('mean squared error')\n",
    "plt.title('Ridge Regression: alpha vs. mse')\n",
    "plt.legend()\n",
    "plt.show()"
   ]
  }
 ],
 "metadata": {
  "kernelspec": {
   "display_name": "Python 3",
   "language": "python",
   "name": "python3"
  },
  "language_info": {
   "codemirror_mode": {
    "name": "ipython",
    "version": 3
   },
   "file_extension": ".py",
   "mimetype": "text/x-python",
   "name": "python",
   "nbconvert_exporter": "python",
   "pygments_lexer": "ipython3",
   "version": "3.8.3"
  }
 },
 "nbformat": 4,
 "nbformat_minor": 5
}
